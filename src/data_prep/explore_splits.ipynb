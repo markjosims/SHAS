{
 "cells": [
  {
   "cell_type": "code",
   "execution_count": 19,
   "metadata": {},
   "outputs": [],
   "source": [
    "import pandas as pd\n",
    "import numpy as np\n",
    "from collections import defaultdict"
   ]
  },
  {
   "cell_type": "code",
   "execution_count": 2,
   "metadata": {},
   "outputs": [],
   "source": [
    "CSV = '../../data/tira-annotated-metadata.csv'"
   ]
  },
  {
   "cell_type": "code",
   "execution_count": 3,
   "metadata": {},
   "outputs": [
    {
     "data": {
      "text/html": [
       "<div>\n",
       "<style scoped>\n",
       "    .dataframe tbody tr th:only-of-type {\n",
       "        vertical-align: middle;\n",
       "    }\n",
       "\n",
       "    .dataframe tbody tr th {\n",
       "        vertical-align: top;\n",
       "    }\n",
       "\n",
       "    .dataframe thead th {\n",
       "        text-align: right;\n",
       "    }\n",
       "</style>\n",
       "<table border=\"1\" class=\"dataframe\">\n",
       "  <thead>\n",
       "    <tr style=\"text-align: right;\">\n",
       "      <th></th>\n",
       "      <th></th>\n",
       "      <th>Filename</th>\n",
       "      <th>Duration</th>\n",
       "      <th>RA work complete</th>\n",
       "      <th>Annotation in ELAN</th>\n",
       "      <th>Annotations done(ish)?</th>\n",
       "      <th>Files uploaded to Kwaras?</th>\n",
       "      <th>Elicitation leader</th>\n",
       "      <th>Transcriber</th>\n",
       "      <th>Present</th>\n",
       "      <th>Category</th>\n",
       "      <th>Content</th>\n",
       "      <th>num_utterances</th>\n",
       "      <th>utterance_len_total</th>\n",
       "      <th>utterance_len_avg</th>\n",
       "    </tr>\n",
       "  </thead>\n",
       "  <tbody>\n",
       "    <tr>\n",
       "      <th>0</th>\n",
       "      <td>7/31/2020</td>\n",
       "      <td>HH07312020-Audacity</td>\n",
       "      <td>0:54:11</td>\n",
       "      <td></td>\n",
       "      <td>Sharon</td>\n",
       "      <td>yes</td>\n",
       "      <td>9/1/2020</td>\n",
       "      <td>Peter</td>\n",
       "      <td>Peter</td>\n",
       "      <td>Nina, Sharon, Peter</td>\n",
       "      <td>Paradigms</td>\n",
       "      <td>conjugation of 'fetch water' in perfective, im...</td>\n",
       "      <td>136</td>\n",
       "      <td>0:04:21</td>\n",
       "      <td>0:00:01</td>\n",
       "    </tr>\n",
       "    <tr>\n",
       "      <th>1</th>\n",
       "      <td>8/7/2020</td>\n",
       "      <td>HH08072020</td>\n",
       "      <td>1:10:50</td>\n",
       "      <td></td>\n",
       "      <td>Nina</td>\n",
       "      <td>yes</td>\n",
       "      <td>9/2/2020</td>\n",
       "      <td>Nina</td>\n",
       "      <td>Sharon</td>\n",
       "      <td>Nina, Sharon</td>\n",
       "      <td>Paradigms</td>\n",
       "      <td>minimal pair for consonant quantity (one/any),...</td>\n",
       "      <td>288</td>\n",
       "      <td>0:10:24</td>\n",
       "      <td>0:00:02</td>\n",
       "    </tr>\n",
       "    <tr>\n",
       "      <th>2</th>\n",
       "      <td>8/14/2020</td>\n",
       "      <td>HH08142020</td>\n",
       "      <td>1:15:46</td>\n",
       "      <td></td>\n",
       "      <td>Sharon</td>\n",
       "      <td>yes</td>\n",
       "      <td>9/3/2020</td>\n",
       "      <td>Nina/Sharon</td>\n",
       "      <td>Peter</td>\n",
       "      <td>Nina, Sharon, Peter</td>\n",
       "      <td>Paradigms</td>\n",
       "      <td>Good morning, subj/obj forms of water, worm, b...</td>\n",
       "      <td>108</td>\n",
       "      <td>0:03:46</td>\n",
       "      <td>0:00:02</td>\n",
       "    </tr>\n",
       "    <tr>\n",
       "      <th>3</th>\n",
       "      <td>8/21/2020</td>\n",
       "      <td>HH08212020-1</td>\n",
       "      <td>0:25:06</td>\n",
       "      <td></td>\n",
       "      <td>Sharon</td>\n",
       "      <td>yes</td>\n",
       "      <td>9/10/2020</td>\n",
       "      <td>Sharon</td>\n",
       "      <td>Sharon</td>\n",
       "      <td>Nina, Sharon</td>\n",
       "      <td>Phrases</td>\n",
       "      <td>Subj/obj forms of person names (Kalu, Koko, Hi...</td>\n",
       "      <td>63</td>\n",
       "      <td>0:02:18</td>\n",
       "      <td>0:00:02</td>\n",
       "    </tr>\n",
       "    <tr>\n",
       "      <th>4</th>\n",
       "      <td>8/21/2020</td>\n",
       "      <td>HH08212020-2</td>\n",
       "      <td>0:38:03</td>\n",
       "      <td></td>\n",
       "      <td>Nina</td>\n",
       "      <td>yes</td>\n",
       "      <td>09-03-2020 (v1); 01-25-2021 (v2)</td>\n",
       "      <td>Nina</td>\n",
       "      <td>Sharon</td>\n",
       "      <td>Nina, Sharon</td>\n",
       "      <td>Alphabet book</td>\n",
       "      <td>Text on leopard (muzu) from Alphabet M book, s...</td>\n",
       "      <td>158</td>\n",
       "      <td>0:04:47</td>\n",
       "      <td>0:00:01</td>\n",
       "    </tr>\n",
       "  </tbody>\n",
       "</table>\n",
       "</div>"
      ],
      "text/plain": [
       "                         Filename Duration RA work complete  \\\n",
       "0  7/31/2020  HH07312020-Audacity  0:54:11                    \n",
       "1   8/7/2020           HH08072020  1:10:50                    \n",
       "2  8/14/2020           HH08142020  1:15:46                    \n",
       "3  8/21/2020         HH08212020-1  0:25:06                    \n",
       "4  8/21/2020         HH08212020-2  0:38:03                    \n",
       "\n",
       "  Annotation in ELAN Annotations done(ish)?         Files uploaded to Kwaras?  \\\n",
       "0             Sharon                    yes                          9/1/2020   \n",
       "1               Nina                    yes                          9/2/2020   \n",
       "2             Sharon                    yes                          9/3/2020   \n",
       "3             Sharon                    yes                         9/10/2020   \n",
       "4               Nina                    yes  09-03-2020 (v1); 01-25-2021 (v2)   \n",
       "\n",
       "  Elicitation leader Transcriber              Present       Category  \\\n",
       "0              Peter       Peter  Nina, Sharon, Peter      Paradigms   \n",
       "1               Nina      Sharon         Nina, Sharon      Paradigms   \n",
       "2        Nina/Sharon       Peter  Nina, Sharon, Peter      Paradigms   \n",
       "3             Sharon      Sharon         Nina, Sharon        Phrases   \n",
       "4               Nina      Sharon         Nina, Sharon  Alphabet book   \n",
       "\n",
       "                                             Content  num_utterances  \\\n",
       "0  conjugation of 'fetch water' in perfective, im...             136   \n",
       "1  minimal pair for consonant quantity (one/any),...             288   \n",
       "2  Good morning, subj/obj forms of water, worm, b...             108   \n",
       "3  Subj/obj forms of person names (Kalu, Koko, Hi...              63   \n",
       "4  Text on leopard (muzu) from Alphabet M book, s...             158   \n",
       "\n",
       "  utterance_len_total utterance_len_avg  \n",
       "0             0:04:21           0:00:01  \n",
       "1             0:10:24           0:00:02  \n",
       "2             0:03:46           0:00:02  \n",
       "3             0:02:18           0:00:02  \n",
       "4             0:04:47           0:00:01  "
      ]
     },
     "execution_count": 3,
     "metadata": {},
     "output_type": "execute_result"
    }
   ],
   "source": [
    "df = pd.read_csv(CSV, keep_default_na=False)\n",
    "df.head()"
   ]
  },
  {
   "cell_type": "code",
   "execution_count": 4,
   "metadata": {},
   "outputs": [
    {
     "data": {
      "text/plain": [
       "['paradigms']                     63\n",
       "['syntax']                        18\n",
       "['wordlists']                     12\n",
       "['paradigms', 'story']             5\n",
       "['alphabet book', 'paradigms']     5\n",
       "['story', 'paradigms']             3\n",
       "['tonal elicitation']              3\n",
       "['alphabet book', 'syntax']        2\n",
       "['alphabet book']                  2\n",
       "['story', 'tonal elicitation']     2\n",
       "['wordlists', 'syntax']            1\n",
       "['phrases']                        1\n",
       "['paradigms', 'syntax']            1\n",
       "['story', 'syntax']                1\n",
       "['paradigms', 'alphabet book']     1\n",
       "['paradigms', 'phrases']           1\n",
       "['story', 'wordlists']             1\n",
       "Name: cat_list, dtype: int64"
      ]
     },
     "execution_count": 4,
     "metadata": {},
     "output_type": "execute_result"
    }
   ],
   "source": [
    "df['cat_list'] = df['Category']\\\n",
    "    .str.split('+')\\\n",
    "    .apply(lambda l: [s.strip().lower() for s in l])\n",
    "    \n",
    "df['cat_list'].astype(str).value_counts()"
   ]
  },
  {
   "cell_type": "code",
   "execution_count": 8,
   "metadata": {},
   "outputs": [
    {
     "data": {
      "text/plain": [
       "(defaultdict(<function __main__.<lambda>()>,\n",
       "             {'paradigms': 10326.0,\n",
       "              'phrases': 162.0,\n",
       "              'alphabet book': 852.0,\n",
       "              'syntax': 1660.5,\n",
       "              'story': 992.5,\n",
       "              'wordlists': 2458.0,\n",
       "              'tonal elicitation': 704.0}),\n",
       " defaultdict(<function __main__.<lambda>()>,\n",
       "             {'paradigms': 79,\n",
       "              'phrases': 2,\n",
       "              'alphabet book': 10,\n",
       "              'syntax': 23,\n",
       "              'story': 12,\n",
       "              'wordlists': 14,\n",
       "              'tonal elicitation': 5}))"
      ]
     },
     "execution_count": 8,
     "metadata": {},
     "output_type": "execute_result"
    }
   ],
   "source": [
    "utterance_cats = defaultdict(lambda:0)\n",
    "recording_cats = defaultdict(lambda:0)\n",
    "\n",
    "def count_utterance_categories(row):\n",
    "    cats = row['cat_list']\n",
    "    num_utts = row['num_utterances']\n",
    "    for cat in cats:\n",
    "        utterance_cats[cat] += num_utts/len(cats)\n",
    "        recording_cats[cat] += 1#/len(cats)\n",
    "\n",
    "df.apply(count_utterance_categories, axis=1)\n",
    "utterance_cats, recording_cats"
   ]
  },
  {
   "cell_type": "code",
   "execution_count": 21,
   "metadata": {},
   "outputs": [
    {
     "data": {
      "text/html": [
       "<div>\n",
       "<style scoped>\n",
       "    .dataframe tbody tr th:only-of-type {\n",
       "        vertical-align: middle;\n",
       "    }\n",
       "\n",
       "    .dataframe tbody tr th {\n",
       "        vertical-align: top;\n",
       "    }\n",
       "\n",
       "    .dataframe thead th {\n",
       "        text-align: right;\n",
       "    }\n",
       "</style>\n",
       "<table border=\"1\" class=\"dataframe\">\n",
       "  <thead>\n",
       "    <tr style=\"text-align: right;\">\n",
       "      <th></th>\n",
       "      <th>paradigms</th>\n",
       "      <th>phrases</th>\n",
       "      <th>alphabet book</th>\n",
       "      <th>syntax</th>\n",
       "      <th>story</th>\n",
       "      <th>wordlists</th>\n",
       "      <th>tonal elicitation</th>\n",
       "    </tr>\n",
       "  </thead>\n",
       "  <tbody>\n",
       "    <tr>\n",
       "      <th>0</th>\n",
       "      <td>2.514832e-67</td>\n",
       "      <td>1.011221e-43</td>\n",
       "      <td>4.329239e-71</td>\n",
       "      <td>4.296027e-61</td>\n",
       "      <td>8.854772e-70</td>\n",
       "      <td>6.690503e-155</td>\n",
       "      <td>1.007655e-119</td>\n",
       "    </tr>\n",
       "    <tr>\n",
       "      <th>1</th>\n",
       "      <td>2.589823e-01</td>\n",
       "      <td>1.011221e-43</td>\n",
       "      <td>4.329239e-71</td>\n",
       "      <td>4.296027e-61</td>\n",
       "      <td>8.854772e-70</td>\n",
       "      <td>6.690503e-155</td>\n",
       "      <td>1.007655e-119</td>\n",
       "    </tr>\n",
       "    <tr>\n",
       "      <th>2</th>\n",
       "      <td>1.738855e-79</td>\n",
       "      <td>1.011221e-43</td>\n",
       "      <td>4.329239e-71</td>\n",
       "      <td>4.296027e-61</td>\n",
       "      <td>8.854772e-70</td>\n",
       "      <td>6.690503e-155</td>\n",
       "      <td>1.007655e-119</td>\n",
       "    </tr>\n",
       "    <tr>\n",
       "      <th>3</th>\n",
       "      <td>2.169998e-126</td>\n",
       "      <td>2.319523e-16</td>\n",
       "      <td>4.329239e-71</td>\n",
       "      <td>4.296027e-61</td>\n",
       "      <td>8.854772e-70</td>\n",
       "      <td>6.690503e-155</td>\n",
       "      <td>1.007655e-119</td>\n",
       "    </tr>\n",
       "    <tr>\n",
       "      <th>4</th>\n",
       "      <td>2.169998e-126</td>\n",
       "      <td>1.011221e-43</td>\n",
       "      <td>1.798621e-02</td>\n",
       "      <td>4.296027e-61</td>\n",
       "      <td>8.854772e-70</td>\n",
       "      <td>6.690503e-155</td>\n",
       "      <td>1.007655e-119</td>\n",
       "    </tr>\n",
       "    <tr>\n",
       "      <th>...</th>\n",
       "      <td>...</td>\n",
       "      <td>...</td>\n",
       "      <td>...</td>\n",
       "      <td>...</td>\n",
       "      <td>...</td>\n",
       "      <td>...</td>\n",
       "      <td>...</td>\n",
       "    </tr>\n",
       "    <tr>\n",
       "      <th>117</th>\n",
       "      <td>1.188972e-48</td>\n",
       "      <td>1.011221e-43</td>\n",
       "      <td>4.329239e-71</td>\n",
       "      <td>4.296027e-61</td>\n",
       "      <td>8.854772e-70</td>\n",
       "      <td>6.690503e-155</td>\n",
       "      <td>1.007655e-119</td>\n",
       "    </tr>\n",
       "    <tr>\n",
       "      <th>118</th>\n",
       "      <td>2.169998e-126</td>\n",
       "      <td>1.011221e-43</td>\n",
       "      <td>4.329239e-71</td>\n",
       "      <td>4.296027e-61</td>\n",
       "      <td>8.854772e-70</td>\n",
       "      <td>6.690503e-155</td>\n",
       "      <td>1.000000e+00</td>\n",
       "    </tr>\n",
       "    <tr>\n",
       "      <th>119</th>\n",
       "      <td>2.169998e-126</td>\n",
       "      <td>1.011221e-43</td>\n",
       "      <td>4.329239e-71</td>\n",
       "      <td>4.296027e-61</td>\n",
       "      <td>8.854772e-70</td>\n",
       "      <td>6.690503e-155</td>\n",
       "      <td>2.001470e-75</td>\n",
       "    </tr>\n",
       "    <tr>\n",
       "      <th>120</th>\n",
       "      <td>1.467308e-52</td>\n",
       "      <td>1.011221e-43</td>\n",
       "      <td>4.329239e-71</td>\n",
       "      <td>4.296027e-61</td>\n",
       "      <td>8.854772e-70</td>\n",
       "      <td>6.690503e-155</td>\n",
       "      <td>1.007655e-119</td>\n",
       "    </tr>\n",
       "    <tr>\n",
       "      <th>121</th>\n",
       "      <td>1.609099e-49</td>\n",
       "      <td>1.011221e-43</td>\n",
       "      <td>4.329239e-71</td>\n",
       "      <td>4.296027e-61</td>\n",
       "      <td>8.854772e-70</td>\n",
       "      <td>6.690503e-155</td>\n",
       "      <td>1.007655e-119</td>\n",
       "    </tr>\n",
       "  </tbody>\n",
       "</table>\n",
       "<p>122 rows × 7 columns</p>\n",
       "</div>"
      ],
      "text/plain": [
       "         paradigms       phrases  alphabet book        syntax         story  \\\n",
       "0     2.514832e-67  1.011221e-43   4.329239e-71  4.296027e-61  8.854772e-70   \n",
       "1     2.589823e-01  1.011221e-43   4.329239e-71  4.296027e-61  8.854772e-70   \n",
       "2     1.738855e-79  1.011221e-43   4.329239e-71  4.296027e-61  8.854772e-70   \n",
       "3    2.169998e-126  2.319523e-16   4.329239e-71  4.296027e-61  8.854772e-70   \n",
       "4    2.169998e-126  1.011221e-43   1.798621e-02  4.296027e-61  8.854772e-70   \n",
       "..             ...           ...            ...           ...           ...   \n",
       "117   1.188972e-48  1.011221e-43   4.329239e-71  4.296027e-61  8.854772e-70   \n",
       "118  2.169998e-126  1.011221e-43   4.329239e-71  4.296027e-61  8.854772e-70   \n",
       "119  2.169998e-126  1.011221e-43   4.329239e-71  4.296027e-61  8.854772e-70   \n",
       "120   1.467308e-52  1.011221e-43   4.329239e-71  4.296027e-61  8.854772e-70   \n",
       "121   1.609099e-49  1.011221e-43   4.329239e-71  4.296027e-61  8.854772e-70   \n",
       "\n",
       "         wordlists  tonal elicitation  \n",
       "0    6.690503e-155      1.007655e-119  \n",
       "1    6.690503e-155      1.007655e-119  \n",
       "2    6.690503e-155      1.007655e-119  \n",
       "3    6.690503e-155      1.007655e-119  \n",
       "4    6.690503e-155      1.007655e-119  \n",
       "..             ...                ...  \n",
       "117  6.690503e-155      1.007655e-119  \n",
       "118  6.690503e-155       1.000000e+00  \n",
       "119  6.690503e-155       2.001470e-75  \n",
       "120  6.690503e-155      1.007655e-119  \n",
       "121  6.690503e-155      1.007655e-119  \n",
       "\n",
       "[122 rows x 7 columns]"
      ]
     },
     "execution_count": 21,
     "metadata": {},
     "output_type": "execute_result"
    }
   ],
   "source": [
    "def count_cats_per_recording(row, cat):\n",
    "    num_utts = row['num_utterances']\n",
    "    cat_list = row['cat_list']\n",
    "    if cat not in cat_list:\n",
    "        return 0\n",
    "    return num_utts / len(cat_list)\n",
    "\n",
    "def softmax(x):\n",
    "    return(np.exp(x)/np.exp(x).sum())\n",
    "\n",
    "cats = list(utterance_cats.keys())\n",
    "for cat in cats:\n",
    "    df[cat] = softmax(df.apply(lambda row: count_cats_per_recording(row, cat), axis=1))\n",
    "\n",
    "df[cats]"
   ]
  },
  {
   "cell_type": "code",
   "execution_count": 32,
   "metadata": {},
   "outputs": [
    {
     "ename": "ValueError",
     "evalue": "a must be greater than 0 unless no samples are taken",
     "output_type": "error",
     "traceback": [
      "\u001b[0;31m---------------------------------------------------------------------------\u001b[0m",
      "\u001b[0;31mValueError\u001b[0m                                Traceback (most recent call last)",
      "Input \u001b[0;32mIn [32]\u001b[0m, in \u001b[0;36m<cell line: 16>\u001b[0;34m()\u001b[0m\n\u001b[1;32m     13\u001b[0m         df \u001b[38;5;241m=\u001b[39m df\u001b[38;5;241m.\u001b[39mdrop(new_row\u001b[38;5;241m.\u001b[39mindex)\n\u001b[1;32m     14\u001b[0m     \u001b[38;5;28;01mreturn\u001b[39;00m new_df, df\n\u001b[0;32m---> 16\u001b[0m \u001b[43mmake_balanced_split\u001b[49m\u001b[43m(\u001b[49m\u001b[43mdf\u001b[49m\u001b[43m)\u001b[49m\n",
      "Input \u001b[0;32mIn [32]\u001b[0m, in \u001b[0;36mmake_balanced_split\u001b[0;34m(df, splitsize)\u001b[0m\n\u001b[1;32m      9\u001b[0m min_cat \u001b[38;5;241m=\u001b[39m \u001b[38;5;28mmin\u001b[39m(size_by_cat, key\u001b[38;5;241m=\u001b[39msize_by_cat\u001b[38;5;241m.\u001b[39mget)\n\u001b[1;32m     10\u001b[0m has_cat \u001b[38;5;241m=\u001b[39m df[\u001b[38;5;124m'\u001b[39m\u001b[38;5;124mcat_list\u001b[39m\u001b[38;5;124m'\u001b[39m]\u001b[38;5;241m.\u001b[39mapply(\u001b[38;5;28;01mlambda\u001b[39;00m l: min_cat \u001b[38;5;129;01min\u001b[39;00m l)\n\u001b[0;32m---> 11\u001b[0m new_row \u001b[38;5;241m=\u001b[39m \u001b[43mdf\u001b[49m\u001b[43m[\u001b[49m\u001b[43mhas_cat\u001b[49m\u001b[43m]\u001b[49m\u001b[38;5;241;43m.\u001b[39;49m\u001b[43msample\u001b[49m\u001b[43m(\u001b[49m\u001b[43m)\u001b[49m\n\u001b[1;32m     12\u001b[0m new_df \u001b[38;5;241m=\u001b[39m pd\u001b[38;5;241m.\u001b[39mconcat([new_df, pd\u001b[38;5;241m.\u001b[39mDataFrame(new_row)])\n\u001b[1;32m     13\u001b[0m df \u001b[38;5;241m=\u001b[39m df\u001b[38;5;241m.\u001b[39mdrop(new_row\u001b[38;5;241m.\u001b[39mindex)\n",
      "File \u001b[0;32m/usr/local/lib/python3.9/site-packages/pandas/core/generic.py:5454\u001b[0m, in \u001b[0;36mNDFrame.sample\u001b[0;34m(self, n, frac, replace, weights, random_state, axis, ignore_index)\u001b[0m\n\u001b[1;32m   5451\u001b[0m \u001b[38;5;28;01mif\u001b[39;00m weights \u001b[38;5;129;01mis\u001b[39;00m \u001b[38;5;129;01mnot\u001b[39;00m \u001b[38;5;28;01mNone\u001b[39;00m:\n\u001b[1;32m   5452\u001b[0m     weights \u001b[38;5;241m=\u001b[39m sample\u001b[38;5;241m.\u001b[39mpreprocess_weights(\u001b[38;5;28mself\u001b[39m, weights, axis)\n\u001b[0;32m-> 5454\u001b[0m sampled_indices \u001b[38;5;241m=\u001b[39m \u001b[43msample\u001b[49m\u001b[38;5;241;43m.\u001b[39;49m\u001b[43msample\u001b[49m\u001b[43m(\u001b[49m\u001b[43mobj_len\u001b[49m\u001b[43m,\u001b[49m\u001b[43m \u001b[49m\u001b[43msize\u001b[49m\u001b[43m,\u001b[49m\u001b[43m \u001b[49m\u001b[43mreplace\u001b[49m\u001b[43m,\u001b[49m\u001b[43m \u001b[49m\u001b[43mweights\u001b[49m\u001b[43m,\u001b[49m\u001b[43m \u001b[49m\u001b[43mrs\u001b[49m\u001b[43m)\u001b[49m\n\u001b[1;32m   5455\u001b[0m result \u001b[38;5;241m=\u001b[39m \u001b[38;5;28mself\u001b[39m\u001b[38;5;241m.\u001b[39mtake(sampled_indices, axis\u001b[38;5;241m=\u001b[39maxis)\n\u001b[1;32m   5457\u001b[0m \u001b[38;5;28;01mif\u001b[39;00m ignore_index:\n",
      "File \u001b[0;32m/usr/local/lib/python3.9/site-packages/pandas/core/sample.py:150\u001b[0m, in \u001b[0;36msample\u001b[0;34m(obj_len, size, replace, weights, random_state)\u001b[0m\n\u001b[1;32m    147\u001b[0m     \u001b[38;5;28;01melse\u001b[39;00m:\n\u001b[1;32m    148\u001b[0m         \u001b[38;5;28;01mraise\u001b[39;00m \u001b[38;5;167;01mValueError\u001b[39;00m(\u001b[38;5;124m\"\u001b[39m\u001b[38;5;124mInvalid weights: weights sum to zero\u001b[39m\u001b[38;5;124m\"\u001b[39m)\n\u001b[0;32m--> 150\u001b[0m \u001b[38;5;28;01mreturn\u001b[39;00m \u001b[43mrandom_state\u001b[49m\u001b[38;5;241;43m.\u001b[39;49m\u001b[43mchoice\u001b[49m\u001b[43m(\u001b[49m\u001b[43mobj_len\u001b[49m\u001b[43m,\u001b[49m\u001b[43m \u001b[49m\u001b[43msize\u001b[49m\u001b[38;5;241;43m=\u001b[39;49m\u001b[43msize\u001b[49m\u001b[43m,\u001b[49m\u001b[43m \u001b[49m\u001b[43mreplace\u001b[49m\u001b[38;5;241;43m=\u001b[39;49m\u001b[43mreplace\u001b[49m\u001b[43m,\u001b[49m\u001b[43m \u001b[49m\u001b[43mp\u001b[49m\u001b[38;5;241;43m=\u001b[39;49m\u001b[43mweights\u001b[49m\u001b[43m)\u001b[49m\u001b[38;5;241m.\u001b[39mastype(\n\u001b[1;32m    151\u001b[0m     np\u001b[38;5;241m.\u001b[39mintp, copy\u001b[38;5;241m=\u001b[39m\u001b[38;5;28;01mFalse\u001b[39;00m\n\u001b[1;32m    152\u001b[0m )\n",
      "File \u001b[0;32mmtrand.pyx:909\u001b[0m, in \u001b[0;36mnumpy.random.mtrand.RandomState.choice\u001b[0;34m()\u001b[0m\n",
      "\u001b[0;31mValueError\u001b[0m: a must be greater than 0 unless no samples are taken"
     ]
    }
   ],
   "source": [
    "def make_balanced_split(df, splitsize=0.8):\n",
    "    total_utterances = df['num_utterances'].sum()\n",
    "    split_records = total_utterances*splitsize\n",
    "    new_df = pd.DataFrame(columns=df.columns)\n",
    "\n",
    "    size_by_cat = {cat: 0 for cat in cats}\n",
    "\n",
    "    while len(new_df) < split_records:\n",
    "        min_cat = min(size_by_cat, key=size_by_cat.get)\n",
    "        has_cat = df['cat_list'].apply(lambda l: min_cat in l)\n",
    "        new_row = df[has_cat].sample()\n",
    "        new_df = pd.concat([new_df, pd.DataFrame(new_row)])\n",
    "        df = df.drop(new_row.index)\n",
    "    return new_df, df\n",
    "\n",
    "make_balanced_split(df)\n"
   ]
  },
  {
   "cell_type": "code",
   "execution_count": 29,
   "metadata": {},
   "outputs": [
    {
     "name": "stdout",
     "output_type": "stream",
     "text": [
      "(122, 23)\n",
      "(121, 23)\n"
     ]
    }
   ],
   "source": [
    "df_copy = df.copy()\n",
    "print(df_copy.shape)\n",
    "sample = df_copy.sample()\n",
    "df_copy = df_copy.drop(sample.index)\n",
    "print(df_copy.shape)"
   ]
  },
  {
   "cell_type": "code",
   "execution_count": 33,
   "metadata": {},
   "outputs": [
    {
     "data": {
      "text/plain": [
       "['paradigms',\n",
       " 'phrases',\n",
       " 'alphabet book',\n",
       " 'syntax',\n",
       " 'story',\n",
       " 'wordlists',\n",
       " 'tonal elicitation']"
      ]
     },
     "execution_count": 33,
     "metadata": {},
     "output_type": "execute_result"
    }
   ],
   "source": [
    "cats"
   ]
  },
  {
   "cell_type": "code",
   "execution_count": 7,
   "metadata": {},
   "outputs": [],
   "source": [
    "import yaml\n",
    "import pandas as pd"
   ]
  },
  {
   "cell_type": "code",
   "execution_count": 4,
   "metadata": {},
   "outputs": [],
   "source": [
    "SEGMENTS_YAML = '../../data/tira-speech-segments.yaml'"
   ]
  },
  {
   "cell_type": "code",
   "execution_count": null,
   "metadata": {},
   "outputs": [],
   "source": [
    "with open(SEGMENTS_YAML) as f:\n",
    "    segments = yaml.safe_load(f)"
   ]
  },
  {
   "cell_type": "code",
   "execution_count": 8,
   "metadata": {},
   "outputs": [
    {
     "data": {
      "text/plain": [
       "[{'duration': 2.6599999999999966,\n",
       "  'offset': 50.77,\n",
       "  'speaker_id': 'HIM',\n",
       "  'wav': 'G:\\\\Shared drives\\\\Tira\\\\Recordings\\\\2020-07-31-Tira\\\\HH07312020-Audacity.wav'},\n",
       " {'duration': 2.980000000000004,\n",
       "  'offset': 56.235,\n",
       "  'speaker_id': 'HIM',\n",
       "  'wav': 'G:\\\\Shared drives\\\\Tira\\\\Recordings\\\\2020-07-31-Tira\\\\HH07312020-Audacity.wav'},\n",
       " {'duration': 2.1300000000000097,\n",
       "  'offset': 62.55,\n",
       "  'speaker_id': 'HIM',\n",
       "  'wav': 'G:\\\\Shared drives\\\\Tira\\\\Recordings\\\\2020-07-31-Tira\\\\HH07312020-Audacity.wav'},\n",
       " {'duration': 1.5900000000000034,\n",
       "  'offset': 87.78,\n",
       "  'speaker_id': 'HIM',\n",
       "  'wav': 'G:\\\\Shared drives\\\\Tira\\\\Recordings\\\\2020-07-31-Tira\\\\HH07312020-Audacity.wav'},\n",
       " {'duration': 2.490000000000009,\n",
       "  'offset': 361.305,\n",
       "  'speaker_id': 'HIM',\n",
       "  'wav': 'G:\\\\Shared drives\\\\Tira\\\\Recordings\\\\2020-07-31-Tira\\\\HH07312020-Audacity.wav'}]"
      ]
     },
     "execution_count": 8,
     "metadata": {},
     "output_type": "execute_result"
    }
   ],
   "source": [
    "segments[:5]"
   ]
  },
  {
   "cell_type": "code",
   "execution_count": 10,
   "metadata": {},
   "outputs": [
    {
     "data": {
      "text/html": [
       "<div>\n",
       "<style scoped>\n",
       "    .dataframe tbody tr th:only-of-type {\n",
       "        vertical-align: middle;\n",
       "    }\n",
       "\n",
       "    .dataframe tbody tr th {\n",
       "        vertical-align: top;\n",
       "    }\n",
       "\n",
       "    .dataframe thead th {\n",
       "        text-align: right;\n",
       "    }\n",
       "</style>\n",
       "<table border=\"1\" class=\"dataframe\">\n",
       "  <thead>\n",
       "    <tr style=\"text-align: right;\">\n",
       "      <th></th>\n",
       "      <th>duration</th>\n",
       "      <th>offset</th>\n",
       "      <th>speaker_id</th>\n",
       "      <th>wav</th>\n",
       "    </tr>\n",
       "  </thead>\n",
       "  <tbody>\n",
       "    <tr>\n",
       "      <th>0</th>\n",
       "      <td>2.66</td>\n",
       "      <td>50.770</td>\n",
       "      <td>HIM</td>\n",
       "      <td>G:\\Shared drives\\Tira\\Recordings\\2020-07-31-Ti...</td>\n",
       "    </tr>\n",
       "    <tr>\n",
       "      <th>1</th>\n",
       "      <td>2.98</td>\n",
       "      <td>56.235</td>\n",
       "      <td>HIM</td>\n",
       "      <td>G:\\Shared drives\\Tira\\Recordings\\2020-07-31-Ti...</td>\n",
       "    </tr>\n",
       "    <tr>\n",
       "      <th>2</th>\n",
       "      <td>2.13</td>\n",
       "      <td>62.550</td>\n",
       "      <td>HIM</td>\n",
       "      <td>G:\\Shared drives\\Tira\\Recordings\\2020-07-31-Ti...</td>\n",
       "    </tr>\n",
       "    <tr>\n",
       "      <th>3</th>\n",
       "      <td>1.59</td>\n",
       "      <td>87.780</td>\n",
       "      <td>HIM</td>\n",
       "      <td>G:\\Shared drives\\Tira\\Recordings\\2020-07-31-Ti...</td>\n",
       "    </tr>\n",
       "    <tr>\n",
       "      <th>4</th>\n",
       "      <td>2.49</td>\n",
       "      <td>361.305</td>\n",
       "      <td>HIM</td>\n",
       "      <td>G:\\Shared drives\\Tira\\Recordings\\2020-07-31-Ti...</td>\n",
       "    </tr>\n",
       "  </tbody>\n",
       "</table>\n",
       "</div>"
      ],
      "text/plain": [
       "   duration   offset speaker_id  \\\n",
       "0      2.66   50.770        HIM   \n",
       "1      2.98   56.235        HIM   \n",
       "2      2.13   62.550        HIM   \n",
       "3      1.59   87.780        HIM   \n",
       "4      2.49  361.305        HIM   \n",
       "\n",
       "                                                 wav  \n",
       "0  G:\\Shared drives\\Tira\\Recordings\\2020-07-31-Ti...  \n",
       "1  G:\\Shared drives\\Tira\\Recordings\\2020-07-31-Ti...  \n",
       "2  G:\\Shared drives\\Tira\\Recordings\\2020-07-31-Ti...  \n",
       "3  G:\\Shared drives\\Tira\\Recordings\\2020-07-31-Ti...  \n",
       "4  G:\\Shared drives\\Tira\\Recordings\\2020-07-31-Ti...  "
      ]
     },
     "execution_count": 10,
     "metadata": {},
     "output_type": "execute_result"
    }
   ],
   "source": [
    "df = pd.DataFrame(data=segments)\n",
    "df.head()"
   ]
  },
  {
   "cell_type": "code",
   "execution_count": 11,
   "metadata": {},
   "outputs": [
    {
     "data": {
      "text/plain": [
       "array([[<AxesSubplot:title={'center':'duration'}>]], dtype=object)"
      ]
     },
     "execution_count": 11,
     "metadata": {},
     "output_type": "execute_result"
    },
    {
     "data": {
      "image/png": "[encoded data removed]",
      "text/plain": [
       "<Figure size 432x288 with 1 Axes>"
      ]
     },
     "metadata": {
      "needs_background": "light"
     },
     "output_type": "display_data"
    }
   ],
   "source": [
    "df.hist('duration')"
   ]
  },
  {
   "cell_type": "code",
   "execution_count": 12,
   "metadata": {},
   "outputs": [
    {
     "data": {
      "text/plain": [
       "67.70900000000006"
      ]
     },
     "execution_count": 12,
     "metadata": {},
     "output_type": "execute_result"
    }
   ],
   "source": [
    "df['duration'].max()"
   ]
  },
  {
   "cell_type": "code",
   "execution_count": 13,
   "metadata": {},
   "outputs": [
    {
     "data": {
      "text/plain": [
       "8165      0.240\n",
       "13541     0.259\n",
       "5479      0.260\n",
       "7843      0.270\n",
       "4958      0.275\n",
       "          ...  \n",
       "15152    13.578\n",
       "11720    14.760\n",
       "2697     20.180\n",
       "2726     20.529\n",
       "6549     67.709\n",
       "Name: duration, Length: 17155, dtype: float64"
      ]
     },
     "execution_count": 13,
     "metadata": {},
     "output_type": "execute_result"
    }
   ],
   "source": [
    "df['duration'].sort_values()"
   ]
  },
  {
   "cell_type": "code",
   "execution_count": 21,
   "metadata": {},
   "outputs": [
    {
     "data": {
      "text/plain": [
       "0.11984844068784611"
      ]
     },
     "execution_count": 21,
     "metadata": {},
     "output_type": "execute_result"
    }
   ],
   "source": [
    "len(df[df['duration']>3])/len(df)"
   ]
  },
  {
   "cell_type": "code",
   "execution_count": 22,
   "metadata": {},
   "outputs": [
    {
     "data": {
      "text/plain": [
       "2.078451355290005"
      ]
     },
     "execution_count": 22,
     "metadata": {},
     "output_type": "execute_result"
    }
   ],
   "source": [
    "df['duration'].mean()"
   ]
  },
  {
   "cell_type": "code",
   "execution_count": 23,
   "metadata": {},
   "outputs": [
    {
     "data": {
      "text/plain": [
       "1.887999999999991"
      ]
     },
     "execution_count": 23,
     "metadata": {},
     "output_type": "execute_result"
    }
   ],
   "source": [
    "df['duration'].median()"
   ]
  },
  {
   "cell_type": "code",
   "execution_count": 25,
   "metadata": {},
   "outputs": [
    {
     "data": {
      "text/plain": [
       "3.9606000000000208"
      ]
     },
     "execution_count": 25,
     "metadata": {},
     "output_type": "execute_result"
    }
   ],
   "source": [
    "df['duration'].quantile(0.95)"
   ]
  }
 ],
 "metadata": {
  "kernelspec": {
   "display_name": "Python 3",
   "language": "python",
   "name": "python3"
  },
  "language_info": {
   "codemirror_mode": {
    "name": "ipython",
    "version": 3
   },
   "file_extension": ".py",
   "mimetype": "text/x-python",
   "name": "python",
   "nbconvert_exporter": "python",
   "pygments_lexer": "ipython3",
   "version": "3.9.13"
  }
 },
 "nbformat": 4,
 "nbformat_minor": 2
}
